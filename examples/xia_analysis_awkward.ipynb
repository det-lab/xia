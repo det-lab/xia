{
 "cells": [
  {
   "cell_type": "code",
   "execution_count": 1,
   "id": "c7875f97-3c69-41db-b32b-81553843a01d",
   "metadata": {},
   "outputs": [],
   "source": [
    "%matplotlib inline\n",
    "\n",
    "import sys\n",
    "import awkward_kaitai as ak \n",
    "import awkward\n",
    "import matplotlib.pyplot as plt # plotting modules\n",
    "import random\n",
    "import numpy as np # numpy provides useful array manipulations like average, max, etc.\n",
    "from pathlib import Path\n",
    "import trace\n",
    "\n",
    "sys.path.append(\"..\")"
   ]
  },
  {
   "cell_type": "code",
   "execution_count": 2,
   "id": "c1e188f1-6002-475a-8145-8526570ff044",
   "metadata": {},
   "outputs": [],
   "source": [
    "xia = ak.Reader(\"../src-pixie4e-awkward/libpixie4e.so\")"
   ]
  },
  {
   "cell_type": "code",
   "execution_count": null,
   "id": "7838d664-ee29-4d5a-9a7a-76f2c6909078",
   "metadata": {},
   "outputs": [],
   "source": [
    "def load_file():\n",
    "    #awkward_array = xia.load(\"../data/LaBr_Na22coinc_attn8_500fast_0148/LaBr_Na22coinc_attn8_500fast_0148_small.b00\")\n",
    "    awkward_array = xia.load(\"../data/StilbeneAmCs_500_0253/StilbeneAmCs_500_0253_xxsmall.b00\")\n",
    "\n",
    "tracer = trace.Trace(trace=True, count=False)\n",
    "try:\n",
    "    tracer.run('load_file()')\n",
    "except Exception as e:\n",
    "    print(\"An error occurred:\", e)"
   ]
  }
 ],
 "metadata": {
  "kernelspec": {
   "display_name": "Python 3 (ipykernel)",
   "language": "python",
   "name": "python3"
  },
  "language_info": {
   "codemirror_mode": {
    "name": "ipython",
    "version": 3
   },
   "file_extension": ".py",
   "mimetype": "text/x-python",
   "name": "python",
   "nbconvert_exporter": "python",
   "pygments_lexer": "ipython3",
   "version": "3.10.12"
  }
 },
 "nbformat": 4,
 "nbformat_minor": 5
}
