{
 "cells": [
  {
   "cell_type": "code",
   "execution_count": 61,
   "metadata": {},
   "outputs": [],
   "source": [
    "%matplotlib inline\n",
    "\n",
    "import sys\n",
    "import awkward_kaitai as ak\n",
    "import matplotlib.pyplot as plt # plotting modules\n",
    "import random\n",
    "import numpy as np # numpy provides useful array manipulations like average, max, etc.\n",
    "from pathlib import Path\n",
    "import pprint\n",
    "\n",
    "sys.path.append(\"..\")"
   ]
  },
  {
   "cell_type": "code",
   "execution_count": 62,
   "metadata": {},
   "outputs": [],
   "source": [
    "xia = ak.Reader(\"../src-pixie4e-awkward/libpixie4e.so\")\n",
    "pixie_data =  xia.load(\"../data/pixie4e/pixie4e.set\")"
   ]
  },
  {
   "cell_type": "code",
   "execution_count": 63,
   "metadata": {},
   "outputs": [
    {
     "name": "stdout",
     "output_type": "stream",
     "text": [
      "['pixie4eA__Zfile_header', 'pixie4eA__Zevents', 'pixie4eA__Zfile_footer']\n"
     ]
    }
   ],
   "source": [
    "# Show the fields for data events\n",
    "print(pixie_data.fields)"
   ]
  },
  {
   "cell_type": "code",
   "execution_count": 64,
   "metadata": {},
   "outputs": [
    {
     "data": {
      "text/html": [
       "<pre>[{eventA__Zelements: [{elementA__Zheader: {...}, ...}, {...}, ..., {...}]}]\n",
       "---------------------------------------------------------------------------\n",
       "type: 1 * {\n",
       "    eventA__Zelements: var * {\n",
       "        elementA__Zheader: {\n",
       "            channel_headerA__Zevt_pattern: uint16,\n",
       "            channel_headerA__Zevt_info: uint16,\n",
       "            channel_headerA__Znum_trace_blks: uint16,\n",
       "            channel_headerA__Znum_trace_blks_prev: uint16,\n",
       "            channel_headerA__Ztrig_time_lo: uint16,\n",
       "            channel_headerA__Ztrig_time_mi: uint16,\n",
       "            channel_headerA__Ztrig_time_hi: uint16,\n",
       "            channel_headerA__Ztrig_time_x: uint16,\n",
       "            channel_headerA__Zenergy: uint16,\n",
       "            channel_headerA__Zchan_no: uint16,\n",
       "            channel_headerA__Zuser_psa_value: uint16,\n",
       "            channel_headerA__Zxia_psa_value: uint16,\n",
       "            channel_headerA__Zextended_psa_values: var * uint16,\n",
       "            channel_headerA__Zreserved: var * uint16,\n",
       "            channel_headerA__Ztimestamp_full: int32\n",
       "        },\n",
       "        elementA__Zdata: var * uint16\n",
       "    }\n",
       "}</pre>"
      ],
      "text/plain": [
       "<Array [{eventA__Zelements: [{...}, ...]}] type='1 * {eventA__Zelements: va...'>"
      ]
     },
     "execution_count": 64,
     "metadata": {},
     "output_type": "execute_result"
    }
   ],
   "source": [
    "# Show the data structure of events\n",
    "events = pixie_data['pixie4eA__Zevents']\n",
    "events"
   ]
  },
  {
   "cell_type": "code",
   "execution_count": 65,
   "metadata": {},
   "outputs": [],
   "source": [
    "energy = []\n",
    "userPsaValue = []\n",
    "\n",
    "for event in events['eventA__Zelements']:\n",
    "    header = event['elementA__Zheader']\n",
    "    energy.append(header['channel_headerA__Zenergy'])\n",
    "    userPsaValue.append(header['channel_headerA__Zuser_psa_value'])"
   ]
  },
  {
   "cell_type": "code",
   "execution_count": 66,
   "metadata": {},
   "outputs": [
    {
     "data": {
      "image/png": "[encoded data removed]",
      "text/plain": [
       "<Figure size 1080x720 with 1 Axes>"
      ]
     },
     "metadata": {
      "needs_background": "light"
     },
     "output_type": "display_data"
    }
   ],
   "source": [
    "# Plot .set data\n",
    "plt.figure(figsize=(15,10))\n",
    "plt.scatter(energy, userPsaValue, marker='o', s=0.05, color='b')\n",
    "plt.xlabel('Energy')\n",
    "plt.ylabel('User PSA Value')\n",
    "plt.title('PSA vs Event Energy')\n",
    "plt.show()"
   ]
  },
  {
   "cell_type": "code",
   "execution_count": null,
   "metadata": {},
   "outputs": [],
   "source": [
    "# Stack energy and userPsaValue for clustering\n",
    "data = np.stack((energy, userPsaValue), axis=1)\n",
    "\n",
    "# Use DBSCAN to identify clusters\n",
    "db = DBSCAN(eps=40, min_samples=10).fit(data)\n",
    "labels = db.labels_\n",
    "\n",
    "# Get unique labels (clusters)\n",
    "unique_labels = set(labels)\n",
    "\n",
    "plt.figure(figsize=(15,10))\n",
    "\n",
    "# Plotting the data points and calculating slopes\n",
    "for label in unique_labels:\n",
    "    if label == -1:\n",
    "        # Noise points\n",
    "        continue\n",
    "\n",
    "    # Filter points by cluster label\n",
    "    cluster_points = data[labels == label]\n",
    "    energy_cluster = cluster_points[:, 0]\n",
    "    userPsaValue_cluster = cluster_points[:, 1]\n",
    "\n",
    "    # Fit a linear model to the cluster\n",
    "    model = LinearRegression().fit(energy_cluster.reshape(-1, 1), userPsaValue_cluster)\n",
    "    slope = model.coef_[0]\n",
    "    intercept = model.intercept_\n",
    "\n",
    "    # Generate line for the fitted model\n",
    "    line_x = np.linspace(min(energy_cluster), max(energy_cluster), 100)\n",
    "    line_y = slope * line_x + intercept\n",
    "\n",
    "    # Plot cluster points\n",
    "    plt.scatter(energy_cluster, userPsaValue_cluster, s=0.5)\n",
    "\n",
    "    # Plot fitted line\n",
    "    plt.plot(line_x, line_y)\n",
    "\n",
    "plt.xlabel('Energy')\n",
    "plt.ylabel('User PSA Value')\n",
    "plt.title('PSA vs Event Energy with Linear Fits')\n",
    "plt.legend()\n",
    "plt.show()"
   ]
  },
  {
   "cell_type": "code",
   "execution_count": null,
   "metadata": {},
   "outputs": [],
   "source": []
  }
 ],
 "metadata": {
  "kernelspec": {
   "display_name": "Python 3 (ipykernel)",
   "language": "python",
   "name": "python3"
  },
  "language_info": {
   "codemirror_mode": {
    "name": "ipython",
    "version": 3
   },
   "file_extension": ".py",
   "mimetype": "text/x-python",
   "name": "python",
   "nbconvert_exporter": "python",
   "pygments_lexer": "ipython3",
   "version": "3.10.12"
  }
 },
 "nbformat": 4,
 "nbformat_minor": 4
}
