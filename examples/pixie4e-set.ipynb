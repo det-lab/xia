{
 "cells": [
  {
   "cell_type": "code",
   "execution_count": 9,
   "metadata": {},
   "outputs": [],
   "source": [
    "%matplotlib inline\n",
    "\n",
    "import sys\n",
    "import awkward_kaitai as ak\n",
    "import awkward\n",
    "import matplotlib.pyplot as plt # plotting modules\n",
    "import random\n",
    "import numpy as np # numpy provides useful array manipulations like average, max, etc.\n",
    "from pathlib import Path\n",
    "import pprint\n",
    "\n",
    "sys.path.append(\"..\")"
   ]
  },
  {
   "cell_type": "code",
   "execution_count": 10,
   "metadata": {},
   "outputs": [],
   "source": [
    "xia = ak.Reader(\"../src-pixie4e-awkward/libpixie4e.so\")\n",
    "pixie_data =  xia.load(\"../data/pixie4e/pixie4e.set\")"
   ]
  },
  {
   "cell_type": "code",
   "execution_count": 11,
   "metadata": {},
   "outputs": [
    {
     "name": "stdout",
     "output_type": "stream",
     "text": [
      "['pixie4eA__Zfile_header', 'pixie4eA__Zevents', 'pixie4eA__Zfile_footer']\n"
     ]
    }
   ],
   "source": [
    "# Show the fields for data events\n",
    "print(pixie_data.fields)"
   ]
  },
  {
   "cell_type": "code",
   "execution_count": 12,
   "metadata": {},
   "outputs": [
    {
     "data": {
      "text/html": [
       "<pre>[{eventA__Zelements: [{elementA__Zheader: {...}, ...}, {...}, ..., {...}]}]\n",
       "---------------------------------------------------------------------------\n",
       "type: 1 * {\n",
       "    eventA__Zelements: var * {\n",
       "        elementA__Zheader: {\n",
       "            channel_headerA__Zevt_pattern: uint16,\n",
       "            channel_headerA__Zevt_info: uint16,\n",
       "            channel_headerA__Znum_trace_blks: uint16,\n",
       "            channel_headerA__Znum_trace_blks_prev: uint16,\n",
       "            channel_headerA__Ztrig_time_lo: uint16,\n",
       "            channel_headerA__Ztrig_time_mi: uint16,\n",
       "            channel_headerA__Ztrig_time_hi: uint16,\n",
       "            channel_headerA__Ztrig_time_x: uint16,\n",
       "            channel_headerA__Zenergy: uint16,\n",
       "            channel_headerA__Zchan_no: uint16,\n",
       "            channel_headerA__Zuser_psa_value: uint16,\n",
       "            channel_headerA__Zxia_psa_value: uint16,\n",
       "            channel_headerA__Zextended_psa_values: var * uint16,\n",
       "            channel_headerA__Zreserved: var * uint16,\n",
       "            channel_headerA__Ztimestamp_full: int32\n",
       "        },\n",
       "        elementA__Zdata: var * uint16\n",
       "    }\n",
       "}</pre>"
      ],
      "text/plain": [
       "<Array [{eventA__Zelements: [{...}, ...]}] type='1 * {eventA__Zelements: va...'>"
      ]
     },
     "execution_count": 12,
     "metadata": {},
     "output_type": "execute_result"
    }
   ],
   "source": [
    "# Show the data structure of events\n",
    "events = pixie_data['pixie4eA__Zevents']\n",
    "events"
   ]
  },
  {
   "cell_type": "code",
   "execution_count": 13,
   "metadata": {},
   "outputs": [],
   "source": [
    "energy = []\n",
    "userPsaValue = []\n",
    "\n",
    "for event in events['eventA__Zelements']:\n",
    "    header = event['elementA__Zheader']\n",
    "    energy.append(header['channel_headerA__Zenergy'])\n",
    "    userPsaValue.append(header['channel_headerA__Zuser_psa_value'])"
   ]
  },
  {
   "cell_type": "code",
   "execution_count": 29,
   "metadata": {},
   "outputs": [
    {
     "name": "stdout",
     "output_type": "stream",
     "text": [
      "[768, 8, 192, 32768, 0, 192, 32768, 0, 13333, ..., 32768, 0, 0, 0, 0, 0, 0, 0]\n",
      "[0, 6, 1, 13, 0, 1, 13, 0, 0, 0, 0, 0, ..., 13, 0, 1, 13, 0, 0, 0, 0, 0, 0, 0]\n"
     ]
    }
   ],
   "source": [
    "energy_flat = awkward.flatten(energy)\n",
    "userPsaValue_flat = awkward.flatten(userPsaValue)\n",
    "print(energy_flat)\n",
    "print(userPsaValue_flat)"
   ]
  },
  {
   "cell_type": "code",
   "execution_count": 33,
   "metadata": {},
   "outputs": [
    {
     "data": {
      "image/png": "[encoded data removed]",
      "text/plain": [
       "<Figure size 720x360 with 1 Axes>"
      ]
     },
     "metadata": {
      "needs_background": "light"
     },
     "output_type": "display_data"
    }
   ],
   "source": [
    "# Plot .set data\n",
    "plt.figure(figsize=(10,5))\n",
    "plt.scatter(energy_flat, userPsaValue_flat, marker='o', s=2, color='b')\n",
    "plt.xlabel('Energy')\n",
    "plt.ylabel('User PSA Value')\n",
    "plt.title('PSA vs Event Energy')\n",
    "plt.show()"
   ]
  },
  {
   "cell_type": "code",
   "execution_count": null,
   "metadata": {},
   "outputs": [],
   "source": []
  }
 ],
 "metadata": {
  "kernelspec": {
   "display_name": "Python 3 (ipykernel)",
   "language": "python",
   "name": "python3"
  },
  "language_info": {
   "codemirror_mode": {
    "name": "ipython",
    "version": 3
   },
   "file_extension": ".py",
   "mimetype": "text/x-python",
   "name": "python",
   "nbconvert_exporter": "python",
   "pygments_lexer": "ipython3",
   "version": "3.10.12"
  }
 },
 "nbformat": 4,
 "nbformat_minor": 4
}
