{
 "cells": [
  {
   "cell_type": "code",
   "execution_count": 1,
   "id": "c7875f97-3c69-41db-b32b-81553843a01d",
   "metadata": {},
   "outputs": [
    {
     "name": "stderr",
     "output_type": "stream",
     "text": [
      "/home/marapyre/.local/lib/python3.10/site-packages/matplotlib/projections/__init__.py:63: UserWarning: Unable to import Axes3D. This may be due to multiple versions of Matplotlib being installed (e.g. as a system package and as a pip package). As a result, the 3D projection is not available.\n",
      "  warnings.warn(\"Unable to import Axes3D. This may be due to multiple versions of \"\n"
     ]
    }
   ],
   "source": [
    "%matplotlib inline\n",
    "\n",
    "import sys\n",
    "import awkward_kaitai as ak \n",
    "import matplotlib.pyplot as plt # plotting modules\n",
    "import random\n",
    "import numpy as np # numpy provides useful array manipulations like average, max, etc.\n",
    "from pathlib import Path\n",
    "\n",
    "sys.path.append(\"..\")"
   ]
  },
  {
   "cell_type": "code",
   "execution_count": 2,
   "id": "c1e188f1-6002-475a-8145-8526570ff044",
   "metadata": {},
   "outputs": [],
   "source": [
    "xia = ak.Reader(\"../src-pixie4e-awkward/libpixie4e.so\")"
   ]
  },
  {
   "cell_type": "code",
   "execution_count": null,
   "id": "7838d664-ee29-4d5a-9a7a-76f2c6909078",
   "metadata": {},
   "outputs": [],
   "source": [
    "try:\n",
    "    awkward_array = xia.load(\"../data/StilbeneAmCs_500_0253/StilbeneAmCs_500_0253.b00\")\n",
    "except Exception as e:\n",
    "    print(\"An error occurred:\", e)"
   ]
  },
  {
   "cell_type": "code",
   "execution_count": 3,
   "id": "3d21abf3-7103-44eb-a889-866375f71001",
   "metadata": {},
   "outputs": [
    {
     "ename": "NameError",
     "evalue": "name 'Pixie4e' is not defined",
     "output_type": "error",
     "traceback": [
      "\u001b[0;31m---------------------------------------------------------------------------\u001b[0m",
      "\u001b[0;31mNameError\u001b[0m                                 Traceback (most recent call last)",
      "\u001b[0;32m/tmp/ipykernel_48160/2323255246.py\u001b[0m in \u001b[0;36m<module>\u001b[0;34m\u001b[0m\n\u001b[1;32m      2\u001b[0m \u001b[0mdataFile\u001b[0m \u001b[0;34m=\u001b[0m \u001b[0mdataPath\u001b[0m \u001b[0;34m/\u001b[0m \u001b[0;34m\"StilbeneAmCs_500_0253.b00\"\u001b[0m\u001b[0;34m\u001b[0m\u001b[0;34m\u001b[0m\u001b[0m\n\u001b[1;32m      3\u001b[0m \u001b[0;34m\u001b[0m\u001b[0m\n\u001b[0;32m----> 4\u001b[0;31m \u001b[0mpixie_data\u001b[0m \u001b[0;34m=\u001b[0m \u001b[0mPixie4e\u001b[0m\u001b[0;34m.\u001b[0m\u001b[0mfrom_file\u001b[0m\u001b[0;34m(\u001b[0m\u001b[0mdataFile\u001b[0m\u001b[0;34m)\u001b[0m\u001b[0;34m\u001b[0m\u001b[0;34m\u001b[0m\u001b[0m\n\u001b[0m",
      "\u001b[0;31mNameError\u001b[0m: name 'Pixie4e' is not defined"
     ]
    }
   ],
   "source": [
    "dataPath = Path(\"../data/StilbeneAmCs_500_0253/\")\n",
    "dataFile = dataPath / \"StilbeneAmCs_500_0253.b00\"\n",
    "\n",
    "pixie_data = Pixie4e.from_file(dataFile)"
   ]
  },
  {
   "cell_type": "code",
   "execution_count": null,
   "id": "26e00c8d-b08f-4d67-aa08-e8dea538930e",
   "metadata": {},
   "outputs": [],
   "source": [
    "evtPattern       = []\n",
    "evtInfo          = []\n",
    "numTraceBlks     = []\n",
    "numTraceBlksPrev = []\n",
    "trigTimeLo       = []\n",
    "trigTimeMi       = []\n",
    "trigTimeHi       = []\n",
    "trigTimeX        = []\n",
    "energy           = []\n",
    "chanNo           = []\n",
    "userPsaValue     = []\n",
    "xiaPsaValue      = []\n",
    "\n",
    "for element in pixie_data.events.elements[:]:\n",
    "    evtPattern.append(element.header.evt_pattern)\n",
    "    evtInfo.append(element.header.evt_info)\n",
    "    numTraceBlks.append(element.header.num_trace_blks)\n",
    "    numTraceBlksPrev.append(element.header.num_trace_blks_prev)\n",
    "    trigTimeLo.append(element.header.trig_time_lo)\n",
    "    trigTimeMi.append(element.header.trig_time_mi)\n",
    "    trigTimeHi.append(element.header.trig_time_hi)\n",
    "    energy.append(element.header.energy)\n",
    "    chanNo.append(element.header.chan_no)\n",
    "    userPsaValue.append(element.header.user_psa_value)\n",
    "    xiaPsaValue.append(element.header.xia_psa_value)"
   ]
  },
  {
   "cell_type": "code",
   "execution_count": null,
   "id": "c6e8ed08-e2c2-4156-8f4a-197e2af60f21",
   "metadata": {},
   "outputs": [],
   "source": [
    "plt.figure(figsize=(15,10))\n",
    "plt.scatter(energy, userPsaValue, marker='o', s=0.05, color='b')\n",
    "plt.xlabel('Energy')\n",
    "plt.ylabel('User PSA Value')\n",
    "plt.title('PSA vs Event Energy')\n",
    "plt.show()"
   ]
  }
 ],
 "metadata": {
  "kernelspec": {
   "display_name": "Python 3 (ipykernel)",
   "language": "python",
   "name": "python3"
  },
  "language_info": {
   "codemirror_mode": {
    "name": "ipython",
    "version": 3
   },
   "file_extension": ".py",
   "mimetype": "text/x-python",
   "name": "python",
   "nbconvert_exporter": "python",
   "pygments_lexer": "ipython3",
   "version": "3.10.12"
  }
 },
 "nbformat": 4,
 "nbformat_minor": 5
}
